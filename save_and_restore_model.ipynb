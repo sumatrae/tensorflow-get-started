{
 "cells": [
  {
   "cell_type": "markdown",
   "metadata": {},
   "source": [
    "## 模型保存的意义\n",
    "- 可以重保存得地方开始训练，避免训练时间过长\n",
    "- 可以分享模型，借鉴别人练过的模型再创作\n"
   ]
  },
  {
   "cell_type": "code",
   "execution_count": 1,
   "metadata": {},
   "outputs": [],
   "source": [
    "import h5py\n",
    "import yaml"
   ]
  },
  {
   "cell_type": "code",
   "execution_count": 2,
   "metadata": {},
   "outputs": [
    {
     "data": {
      "text/plain": [
       "'1.8.0'"
      ]
     },
     "execution_count": 2,
     "metadata": {},
     "output_type": "execute_result"
    }
   ],
   "source": [
    "from __future__ import absolute_import,division,print_function\n",
    "import os \n",
    "\n",
    "import tensorflow as tf\n",
    "from tensorflow import keras\n",
    "\n",
    "tf.__version__"
   ]
  },
  {
   "cell_type": "markdown",
   "metadata": {},
   "source": [
    "## Load dataset"
   ]
  },
  {
   "cell_type": "code",
   "execution_count": 3,
   "metadata": {},
   "outputs": [
    {
     "data": {
      "text/plain": [
       "(60000, 28, 28)"
      ]
     },
     "execution_count": 3,
     "metadata": {},
     "output_type": "execute_result"
    }
   ],
   "source": [
    "(train_data,train_labels),(test_data,test_labels) = keras.datasets.mnist.load_data()\n",
    "train_data.shape"
   ]
  },
  {
   "cell_type": "code",
   "execution_count": 4,
   "metadata": {},
   "outputs": [],
   "source": [
    "train_labels = train_labels[:1000]\n",
    "test_labels = test_labels[:1000]"
   ]
  },
  {
   "cell_type": "code",
   "execution_count": 5,
   "metadata": {},
   "outputs": [],
   "source": [
    "train_data = train_data[:1000].reshape(-1,28*28)/255\n",
    "test_data = test_data[:1000].reshape(-1,28*28)/255"
   ]
  },
  {
   "cell_type": "code",
   "execution_count": 6,
   "metadata": {},
   "outputs": [
    {
     "data": {
      "text/plain": [
       "(1000, 784)"
      ]
     },
     "execution_count": 6,
     "metadata": {},
     "output_type": "execute_result"
    }
   ],
   "source": [
    "train_data.shape"
   ]
  },
  {
   "cell_type": "markdown",
   "metadata": {},
   "source": [
    "## Create model"
   ]
  },
  {
   "cell_type": "code",
   "execution_count": 7,
   "metadata": {},
   "outputs": [],
   "source": [
    "def create_model():\n",
    "    model = keras.models.Sequential()\n",
    "    model.add(keras.layers.Dense(512, activation = tf.nn.relu, input_shape = (784,)))\n",
    "    model.add(keras.layers.Dropout(0.2))\n",
    "    model.add(keras.layers.Dense(10, activation = tf.nn.softmax))\n",
    "    \n",
    "    model.compile(optimizer=keras.optimizers.Adam(),\n",
    "              loss=keras.losses.sparse_categorical_crossentropy,\n",
    "              metrics=[\"accuracy\"])\n",
    "    \n",
    "    return model"
   ]
  },
  {
   "cell_type": "code",
   "execution_count": 8,
   "metadata": {},
   "outputs": [
    {
     "name": "stdout",
     "output_type": "stream",
     "text": [
      "_________________________________________________________________\n",
      "Layer (type)                 Output Shape              Param #   \n",
      "=================================================================\n",
      "dense_1 (Dense)              (None, 512)               401920    \n",
      "_________________________________________________________________\n",
      "dropout_1 (Dropout)          (None, 512)               0         \n",
      "_________________________________________________________________\n",
      "dense_2 (Dense)              (None, 10)                5130      \n",
      "=================================================================\n",
      "Total params: 407,050\n",
      "Trainable params: 407,050\n",
      "Non-trainable params: 0\n",
      "_________________________________________________________________\n"
     ]
    }
   ],
   "source": [
    "model = create_model()\n",
    "model.summary()"
   ]
  },
  {
   "cell_type": "markdown",
   "metadata": {},
   "source": [
    "## Checkpoint save\n",
    "\n",
    "在训练期间通过回调函数保存检查点.\n",
    "可以通过训练中的中间变量参数命名checkpoint文件，如\"model_{epoch:02d}-{val_acc:.2f}.hdf5\""
   ]
  },
  {
   "cell_type": "code",
   "execution_count": 9,
   "metadata": {
    "scrolled": true
   },
   "outputs": [
    {
     "name": "stdout",
     "output_type": "stream",
     "text": [
      "Train on 1000 samples, validate on 1000 samples\n",
      "Epoch 1/50\n",
      " - 3s - loss: 1.1796 - acc: 0.6730 - val_loss: 0.7535 - val_acc: 0.7540\n",
      "Epoch 2/50\n",
      " - 0s - loss: 0.4236 - acc: 0.8770 - val_loss: 0.5326 - val_acc: 0.8300\n",
      "Epoch 3/50\n",
      " - 0s - loss: 0.2876 - acc: 0.9200 - val_loss: 0.5329 - val_acc: 0.8380\n",
      "Epoch 4/50\n",
      " - 0s - loss: 0.2154 - acc: 0.9420 - val_loss: 0.4339 - val_acc: 0.8600\n",
      "Epoch 5/50\n",
      " - 0s - loss: 0.1509 - acc: 0.9680 - val_loss: 0.4195 - val_acc: 0.8610\n",
      "\n",
      "Epoch 00005: saving model to ./output/checkpoint-0005.ckpt\n",
      "Epoch 6/50\n",
      " - 0s - loss: 0.1205 - acc: 0.9700 - val_loss: 0.4083 - val_acc: 0.8610\n",
      "Epoch 7/50\n",
      " - 0s - loss: 0.0858 - acc: 0.9890 - val_loss: 0.4041 - val_acc: 0.8670\n",
      "Epoch 8/50\n",
      " - 0s - loss: 0.0668 - acc: 0.9920 - val_loss: 0.3959 - val_acc: 0.8680\n",
      "Epoch 9/50\n",
      " - 0s - loss: 0.0540 - acc: 0.9930 - val_loss: 0.4475 - val_acc: 0.8600\n",
      "Epoch 10/50\n",
      " - 0s - loss: 0.0456 - acc: 0.9930 - val_loss: 0.3979 - val_acc: 0.8670\n",
      "\n",
      "Epoch 00010: saving model to ./output/checkpoint-0010.ckpt\n",
      "Epoch 11/50\n",
      " - 0s - loss: 0.0293 - acc: 1.0000 - val_loss: 0.4077 - val_acc: 0.8700\n",
      "Epoch 12/50\n",
      " - 0s - loss: 0.0247 - acc: 1.0000 - val_loss: 0.3990 - val_acc: 0.8730\n",
      "Epoch 13/50\n",
      " - 0s - loss: 0.0206 - acc: 1.0000 - val_loss: 0.4098 - val_acc: 0.8700\n",
      "Epoch 14/50\n",
      " - 0s - loss: 0.0164 - acc: 1.0000 - val_loss: 0.4082 - val_acc: 0.8780\n",
      "Epoch 15/50\n",
      " - 0s - loss: 0.0151 - acc: 0.9990 - val_loss: 0.4226 - val_acc: 0.8730\n",
      "\n",
      "Epoch 00015: saving model to ./output/checkpoint-0015.ckpt\n",
      "Epoch 16/50\n",
      " - 0s - loss: 0.0125 - acc: 1.0000 - val_loss: 0.4264 - val_acc: 0.8730\n",
      "Epoch 17/50\n",
      " - 0s - loss: 0.0110 - acc: 1.0000 - val_loss: 0.4174 - val_acc: 0.8790\n",
      "Epoch 18/50\n",
      " - 0s - loss: 0.0110 - acc: 1.0000 - val_loss: 0.4153 - val_acc: 0.8780\n",
      "Epoch 19/50\n",
      " - 0s - loss: 0.0087 - acc: 1.0000 - val_loss: 0.4315 - val_acc: 0.8700\n",
      "Epoch 20/50\n",
      " - 0s - loss: 0.0080 - acc: 1.0000 - val_loss: 0.4174 - val_acc: 0.8810\n",
      "\n",
      "Epoch 00020: saving model to ./output/checkpoint-0020.ckpt\n",
      "Epoch 21/50\n",
      " - 0s - loss: 0.0066 - acc: 1.0000 - val_loss: 0.4178 - val_acc: 0.8730\n",
      "Epoch 22/50\n",
      " - 0s - loss: 0.0061 - acc: 1.0000 - val_loss: 0.4314 - val_acc: 0.8760\n",
      "Epoch 23/50\n",
      " - 0s - loss: 0.0063 - acc: 1.0000 - val_loss: 0.4274 - val_acc: 0.8780\n",
      "Epoch 24/50\n",
      " - 0s - loss: 0.0058 - acc: 1.0000 - val_loss: 0.4403 - val_acc: 0.8720\n",
      "Epoch 25/50\n",
      " - 0s - loss: 0.0047 - acc: 1.0000 - val_loss: 0.4311 - val_acc: 0.8710\n",
      "\n",
      "Epoch 00025: saving model to ./output/checkpoint-0025.ckpt\n",
      "Epoch 26/50\n",
      " - 0s - loss: 0.0043 - acc: 1.0000 - val_loss: 0.4435 - val_acc: 0.8750\n",
      "Epoch 27/50\n",
      " - 0s - loss: 0.0042 - acc: 1.0000 - val_loss: 0.4413 - val_acc: 0.8730\n",
      "Epoch 28/50\n",
      " - 0s - loss: 0.0039 - acc: 1.0000 - val_loss: 0.4394 - val_acc: 0.8780\n",
      "Epoch 29/50\n",
      " - 0s - loss: 0.0032 - acc: 1.0000 - val_loss: 0.4520 - val_acc: 0.8690\n",
      "Epoch 30/50\n",
      " - 0s - loss: 0.0033 - acc: 1.0000 - val_loss: 0.4462 - val_acc: 0.8730\n",
      "\n",
      "Epoch 00030: saving model to ./output/checkpoint-0030.ckpt\n",
      "Epoch 31/50\n",
      " - 0s - loss: 0.0030 - acc: 1.0000 - val_loss: 0.4508 - val_acc: 0.8740\n",
      "Epoch 32/50\n",
      " - 0s - loss: 0.0029 - acc: 1.0000 - val_loss: 0.4483 - val_acc: 0.8710\n",
      "Epoch 33/50\n",
      " - 0s - loss: 0.0031 - acc: 1.0000 - val_loss: 0.4540 - val_acc: 0.8710\n",
      "Epoch 34/50\n",
      " - 0s - loss: 0.0054 - acc: 0.9990 - val_loss: 0.4510 - val_acc: 0.8700\n",
      "Epoch 35/50\n",
      " - 0s - loss: 0.0030 - acc: 1.0000 - val_loss: 0.4555 - val_acc: 0.8800\n",
      "\n",
      "Epoch 00035: saving model to ./output/checkpoint-0035.ckpt\n",
      "Epoch 36/50\n",
      " - 0s - loss: 0.0026 - acc: 1.0000 - val_loss: 0.4568 - val_acc: 0.8790\n",
      "Epoch 37/50\n",
      " - 0s - loss: 0.0021 - acc: 1.0000 - val_loss: 0.4554 - val_acc: 0.8750\n",
      "Epoch 38/50\n",
      " - 0s - loss: 0.0024 - acc: 1.0000 - val_loss: 0.4646 - val_acc: 0.8750\n",
      "Epoch 39/50\n",
      " - 0s - loss: 0.0020 - acc: 1.0000 - val_loss: 0.4678 - val_acc: 0.8730\n",
      "Epoch 40/50\n",
      " - 0s - loss: 0.0022 - acc: 1.0000 - val_loss: 0.4730 - val_acc: 0.8750\n",
      "\n",
      "Epoch 00040: saving model to ./output/checkpoint-0040.ckpt\n",
      "Epoch 41/50\n",
      " - 0s - loss: 0.0017 - acc: 1.0000 - val_loss: 0.4631 - val_acc: 0.8770\n",
      "Epoch 42/50\n",
      " - 0s - loss: 0.0017 - acc: 1.0000 - val_loss: 0.4710 - val_acc: 0.8740\n",
      "Epoch 43/50\n",
      " - 0s - loss: 0.0017 - acc: 1.0000 - val_loss: 0.4672 - val_acc: 0.8760\n",
      "Epoch 44/50\n",
      " - 0s - loss: 0.0013 - acc: 1.0000 - val_loss: 0.4748 - val_acc: 0.8740\n",
      "Epoch 45/50\n",
      " - 0s - loss: 0.0013 - acc: 1.0000 - val_loss: 0.4694 - val_acc: 0.8760\n",
      "\n",
      "Epoch 00045: saving model to ./output/checkpoint-0045.ckpt\n",
      "Epoch 46/50\n",
      " - 0s - loss: 0.0014 - acc: 1.0000 - val_loss: 0.4740 - val_acc: 0.8740\n",
      "Epoch 47/50\n",
      " - 0s - loss: 0.0013 - acc: 1.0000 - val_loss: 0.4748 - val_acc: 0.8770\n",
      "Epoch 48/50\n",
      " - 0s - loss: 0.0012 - acc: 1.0000 - val_loss: 0.4796 - val_acc: 0.8730\n",
      "Epoch 49/50\n",
      " - 0s - loss: 0.0012 - acc: 1.0000 - val_loss: 0.4792 - val_acc: 0.8730\n",
      "Epoch 50/50\n",
      " - 0s - loss: 0.0017 - acc: 1.0000 - val_loss: 0.4887 - val_acc: 0.8720\n",
      "\n",
      "Epoch 00050: saving model to ./output/checkpoint-0050.ckpt\n"
     ]
    },
    {
     "data": {
      "text/plain": [
       "<tensorflow.python.keras._impl.keras.callbacks.History at 0x17700730e10>"
      ]
     },
     "execution_count": 9,
     "metadata": {},
     "output_type": "execute_result"
    }
   ],
   "source": [
    "checkpoint_path = \"./output/checkpoint-{epoch:04d}.ckpt\"\n",
    "checkpoint_directory = os.path.dirname(checkpoint_path)\n",
    "\n",
    "checkpoint_callback = tf.keras.callbacks.ModelCheckpoint(checkpoint_path,\n",
    "                                                         save_weights_only=False,\n",
    "                                                         verbose=1,\n",
    "                                                         period=5)\n",
    "\n",
    "model.fit(train_data,\n",
    "          train_labels,\n",
    "          epochs=50,\n",
    "          validation_data=(test_data,test_labels),\n",
    "          callbacks=[checkpoint_callback],\n",
    "          verbose=2)\n",
    "\n"
   ]
  },
  {
   "cell_type": "markdown",
   "metadata": {},
   "source": [
    "## 检查点恢复"
   ]
  },
  {
   "cell_type": "code",
   "execution_count": 10,
   "metadata": {},
   "outputs": [],
   "source": [
    "del model"
   ]
  },
  {
   "cell_type": "code",
   "execution_count": 11,
   "metadata": {},
   "outputs": [
    {
     "name": "stdout",
     "output_type": "stream",
     "text": [
      "1000/1000 [==============================] - 0s 140us/step\n",
      "untrained mode, accuracy: 13.80%\n"
     ]
    }
   ],
   "source": [
    "model = create_model()\n",
    "loss,acc = model.evaluate(test_data,test_labels)\n",
    "print(\"untrained mode, accuracy: {:.2f}%\".format(100*acc))"
   ]
  },
  {
   "cell_type": "code",
   "execution_count": 12,
   "metadata": {},
   "outputs": [
    {
     "name": "stdout",
     "output_type": "stream",
     "text": [
      "None\n"
     ]
    }
   ],
   "source": [
    "#TODO: somethine wrong here,latest_checkpoint return NONE \n",
    "ck_dir = os.path.normpath(os.path.realpath(checkpoint_directory))\n",
    "latest_path = tf.train.latest_checkpoint(checkpoint_dir=ck_dir)\n",
    "print(latest_path)"
   ]
  },
  {
   "cell_type": "code",
   "execution_count": 13,
   "metadata": {},
   "outputs": [
    {
     "name": "stdout",
     "output_type": "stream",
     "text": [
      "1000/1000 [==============================] - 0s 48us/step\n",
      "Restored mode, accuracy: 87.20%\n"
     ]
    }
   ],
   "source": [
    "# latest_path = tf.train.latest_checkpoint(checkpoint_dir=os.path.realpath(checkpoint_directory))\n",
    "# print(latest_path)\n",
    "model.load_weights(\"output/checkpoint-0050.ckpt\")\n",
    "loss,acc = model.evaluate(test_data,test_labels)\n",
    "print(\"Restored mode, accuracy: {:.2f}%\".format(100*acc))"
   ]
  },
  {
   "cell_type": "code",
   "execution_count": null,
   "metadata": {},
   "outputs": [],
   "source": []
  }
 ],
 "metadata": {
  "kernelspec": {
   "display_name": "Python 3",
   "language": "python",
   "name": "python3"
  },
  "language_info": {
   "codemirror_mode": {
    "name": "ipython",
    "version": 3
   },
   "file_extension": ".py",
   "mimetype": "text/x-python",
   "name": "python",
   "nbconvert_exporter": "python",
   "pygments_lexer": "ipython3",
   "version": "3.6.0"
  }
 },
 "nbformat": 4,
 "nbformat_minor": 2
}
